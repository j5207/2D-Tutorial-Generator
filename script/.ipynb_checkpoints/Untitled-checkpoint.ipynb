{
 "cells": [
  {
   "cell_type": "code",
   "execution_count": 31,
   "metadata": {},
   "outputs": [],
   "source": [
    "from __future__ import print_function\n",
    "import cv2\n",
    "import tkinter as tk"
   ]
  },
  {
   "cell_type": "code",
   "execution_count": null,
   "metadata": {},
   "outputs": [],
   "source": [
    "class Windows(tk.Frame):\n",
    "    def __init__(self, master=None, cap):\n",
    "        # parameters that you want to send through the Frame class.\n",
    "        tk.Frame.__init__(self, master)\n",
    "        self.master = tk.Tk()\n",
    "        root.geometry(\"800x600\")\n",
    "        self.cap = cap\n",
    "        self.init_window()\n",
    "    \n",
    "    def init_window(self):\n",
    "        self.master.title(\"GUI\")\n",
    "        \n",
    "        self.pack(fill=tk.BOTH, expand=1)\n",
    "\n",
    "        quitButton = tk.Button(self, text=\"show\", command=self.show_img)\n",
    "        quitButton.place(x=180, y=0)\n",
    "        # create menu instance\n",
    "    \n",
    "    def button_callback(self):\n",
    "        exit()\n",
    "        \n",
    "    def show_img(self):\n",
    "        _, origin = self.cap.read()\n",
    "        temp = cv2.cvtColor(origin,cv2.COLOR_BGR2RGB)\n",
    "        load = Image.fromarray(temp)\n",
    "        render = ImageTk.PhotoImage(load)\n",
    "        img = tk.Label(self, image=render)\n",
    "        img.image = render\n",
    "        img.place(x=100, y=100)\n",
    "    \n",
    "    def show_text(self):\n",
    "        text = tk.Label(self, text=\"henghengheng\")\n",
    "        text.pack()"
   ]
  },
  {
   "cell_type": "code",
   "execution_count": null,
   "metadata": {},
   "outputs": [],
   "source": [
    "def show_img(cap):\n",
    "    "
   ]
  },
  {
   "cell_type": "code",
   "execution_count": null,
   "metadata": {},
   "outputs": [],
   "source": [
    "def main():\n",
    "    cap=cv2.VideoCapture(0)\n",
    "    \n",
    "    app = Windows(root)\n",
    "    while(1):\n",
    "        root = tk.Tk()\n",
    "        root.geometry(\"800x600\")\n",
    "        app = Windows(root)\n",
    "        if cv2.waitKey(5) & 0xFF == 27:\n",
    "            break\n",
    "    cap.release()\n",
    "    cv2.destroyAllWindows()\n",
    "\n",
    "    "
   ]
  },
  {
   "cell_type": "markdown",
   "metadata": {},
   "source": []
  }
 ],
 "metadata": {
  "kernelspec": {
   "display_name": "Python 2",
   "language": "python",
   "name": "python2"
  },
  "language_info": {
   "codemirror_mode": {
    "name": "ipython",
    "version": 3
   },
   "file_extension": ".py",
   "mimetype": "text/x-python",
   "name": "python",
   "nbconvert_exporter": "python",
   "pygments_lexer": "ipython3",
   "version": "3.5.2"
  }
 },
 "nbformat": 4,
 "nbformat_minor": 2
}
