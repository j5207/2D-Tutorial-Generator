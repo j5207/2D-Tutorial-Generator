{
 "cells": [
  {
   "cell_type": "code",
   "execution_count": 10,
   "metadata": {},
   "outputs": [],
   "source": [
    "import tkinter as tk\n",
    "from tkinter import ttk\n",
    "from PIL import Image, ImageTk"
   ]
  },
  {
   "cell_type": "code",
   "execution_count": 11,
   "metadata": {},
   "outputs": [],
   "source": [
    "class Windows(tk.Frame):\n",
    "    def __init__(self, master=None):\n",
    "        # parameters that you want to send through the Frame class.\n",
    "        tk.Frame.__init__(self, master)\n",
    "        self.master = master\n",
    "        self.init_window()\n",
    "    \n",
    "    def init_window(self):\n",
    "        self.master.title(\"GUI\")\n",
    "        \n",
    "        self.pack(fill=tk.BOTH, expand=1)\n",
    "\n",
    "        quitButton = tk.Button(self, text=\"Quit\", command=self.button_callback)\n",
    "\n",
    "        quitButton.place(x=180, y=0)\n",
    "        # create menu instance\n",
    "        menu = tk.Menu(self.master)\n",
    "        self.master.config(menu=menu)\n",
    "        # create file object\n",
    "        file = tk.Menu(menu)\n",
    "        \n",
    "        file.add_command(label=\"exit\", command=self.button_callback)\n",
    "        file.add_command(label=\"heng\", command=self.button_callback)\n",
    "        file.add_command(label=\"hehe\", command=self.button_callback)\n",
    "        #added \"file\" to our menu\n",
    "        menu.add_cascade(label=\"File\", menu=file)\n",
    "        \n",
    "        # create the file object)\n",
    "        edit = tk.Menu(menu)\n",
    "\n",
    "        # adds a command to the menu option, calling it exit, and the\n",
    "        # command it runs on event is client_exit\n",
    "        edit.add_command(label=\"Undo\")\n",
    "        edit.add_command(label=\"heng\", command=self.show_img)\n",
    "        edit.add_command(label=\"hehe\", command=self.show_text)\n",
    "\n",
    "        #added \"file\" to our menu\n",
    "        menu.add_cascade(label=\"Edit\", menu=edit)\n",
    "    \n",
    "    def button_callback(self):\n",
    "        exit()\n",
    "        \n",
    "    def show_img(self):\n",
    "        load = Image.open(\"recording.jpeg\")\n",
    "        render = ImageTk.PhotoImage(load)\n",
    "        \n",
    "        img = tk.Label(self, image=render)\n",
    "        img.image = render\n",
    "        img.place(x=100, y=100)\n",
    "    \n",
    "    def show_text(self):\n",
    "        text = tk.Label(self, text=\"henghengheng\")\n",
    "        text.pack()"
   ]
  },
  {
   "cell_type": "code",
   "execution_count": 12,
   "metadata": {},
   "outputs": [],
   "source": [
    "root = tk.Tk()\n",
    "root.geometry(\"800x600\")\n",
    "app = Windows(root)"
   ]
  },
  {
   "cell_type": "code",
   "execution_count": 13,
   "metadata": {},
   "outputs": [],
   "source": [
    "root.mainloop()"
   ]
  },
  {
   "cell_type": "code",
   "execution_count": null,
   "metadata": {},
   "outputs": [],
   "source": []
  }
 ],
 "metadata": {
  "kernelspec": {
   "display_name": "Python 2",
   "language": "python",
   "name": "python2"
  },
  "language_info": {
   "codemirror_mode": {
    "name": "ipython",
    "version": 3
   },
   "file_extension": ".py",
   "mimetype": "text/x-python",
   "name": "python",
   "nbconvert_exporter": "python",
   "pygments_lexer": "ipython3",
   "version": "3.5.2"
  }
 },
 "nbformat": 4,
 "nbformat_minor": 2
}
